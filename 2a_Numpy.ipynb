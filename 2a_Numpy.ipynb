{
  "nbformat": 4,
  "nbformat_minor": 0,
  "metadata": {
    "kernelspec": {
      "display_name": "Python 3",
      "language": "python",
      "name": "python3"
    },
    "language_info": {
      "codemirror_mode": {
        "name": "ipython",
        "version": 3
      },
      "file_extension": ".py",
      "mimetype": "text/x-python",
      "name": "python",
      "nbconvert_exporter": "python",
      "pygments_lexer": "ipython3",
      "version": "3.6.8"
    },
    "colab": {
      "provenance": [],
      "collapsed_sections": [
        "HdnHrUkZ5st1",
        "58P_T-TZ5sum",
        "mz79pm9z5su8",
        "5B1fj3EF5svG",
        "O4hMRPpG5svN",
        "BcdwPmji5svR",
        "DitlygOO5swM",
        "UCzNEXTS5swU",
        "8PpBf9z35swg",
        "3XxfwYkT5swu"
      ],
      "include_colab_link": true
    }
  },
  "cells": [
    {
      "cell_type": "markdown",
      "metadata": {
        "id": "view-in-github",
        "colab_type": "text"
      },
      "source": [
        "<a href=\"https://colab.research.google.com/github/unimoreinginfo/BDTA/blob/main/2a_Numpy.ipynb\" target=\"_parent\"><img src=\"https://colab.research.google.com/assets/colab-badge.svg\" alt=\"Open In Colab\"/></a>"
      ]
    },
    {
      "cell_type": "markdown",
      "metadata": {
        "id": "9WB297Ey5ssg"
      },
      "source": [
        "# Numpy\n",
        "\n",
        "NumPy (short for Numerical Python) provides an efficient interface to store and operate on dense data buffers."
      ]
    },
    {
      "cell_type": "code",
      "metadata": {
        "id": "aGsKAdyW5ssh"
      },
      "source": [
        "import numpy as np"
      ],
      "execution_count": null,
      "outputs": []
    },
    {
      "cell_type": "markdown",
      "metadata": {
        "id": "317ESUmI5ssk"
      },
      "source": [
        "# The NumPy ndarray: A Multidimensional Array Object\n",
        "- N-dimensional array object, or ndarray, which is a fast, flexible container for large data sets\n",
        "- Arrays enable you to perform mathematical operations on whole blocks of data using similar syntax\n",
        "- An ndarray is a generic multidimensional container for homogeneous data\n",
        "  - all of the elements must be the **same type**,\n",
        "  - **shape**, a tuple indicating the size of each dimension,\n",
        "  - **dtype**, an object describing the data type of the array."
      ]
    },
    {
      "cell_type": "markdown",
      "metadata": {
        "id": "lmwxZVo95ssl"
      },
      "source": [
        "## Creating ndarrays\n",
        "- the ***array*** function accepts any sequence-like object (including other arrays) and produces a new NumPy array containing the passed data\n"
      ]
    },
    {
      "cell_type": "code",
      "metadata": {
        "id": "NY1Sbutt5ssl"
      },
      "source": [
        "data1 = [1, 3, 5, 7, 9, 11]"
      ],
      "execution_count": null,
      "outputs": []
    },
    {
      "cell_type": "code",
      "metadata": {
        "id": "Nk9EKe-EzyuK"
      },
      "source": [
        "data1"
      ],
      "execution_count": null,
      "outputs": []
    },
    {
      "cell_type": "code",
      "metadata": {
        "id": "bLJafGj45sso"
      },
      "source": [
        "arr1 = np.array(data1)"
      ],
      "execution_count": null,
      "outputs": []
    },
    {
      "cell_type": "code",
      "metadata": {
        "id": "2ZYe4TEH5ssr"
      },
      "source": [
        "arr1"
      ],
      "execution_count": null,
      "outputs": []
    },
    {
      "cell_type": "code",
      "metadata": {
        "id": "V0ZI2LaqNjtT"
      },
      "source": [
        "arr1.ndim"
      ],
      "execution_count": null,
      "outputs": []
    },
    {
      "cell_type": "code",
      "source": [
        "arr1.shape"
      ],
      "metadata": {
        "id": "2gW0BdWB0ciZ"
      },
      "execution_count": null,
      "outputs": []
    },
    {
      "cell_type": "code",
      "source": [
        "arr1.dtype"
      ],
      "metadata": {
        "id": "KsFABk1d0eKe"
      },
      "execution_count": null,
      "outputs": []
    },
    {
      "cell_type": "code",
      "source": [
        "arr1.itemsize # the size (in bytes) of each array element"
      ],
      "metadata": {
        "id": "_6jwPcNu0wf4"
      },
      "execution_count": null,
      "outputs": []
    },
    {
      "cell_type": "code",
      "source": [
        "arr1.nbytes # the total size (in bytes) of the array"
      ],
      "metadata": {
        "id": "OhN6xqqN043V"
      },
      "execution_count": null,
      "outputs": []
    },
    {
      "cell_type": "code",
      "metadata": {
        "id": "sjFzvo_r5sst"
      },
      "source": [
        "data2 = [1, 3.7, 5, 7, 9, 11.4]"
      ],
      "execution_count": null,
      "outputs": []
    },
    {
      "cell_type": "code",
      "metadata": {
        "id": "FAoOiSIFJrbh"
      },
      "source": [
        "data2"
      ],
      "execution_count": null,
      "outputs": []
    },
    {
      "cell_type": "markdown",
      "source": [
        "- data2 contiene numeri interi e numeri decimali, posso creare un Numpy array?"
      ],
      "metadata": {
        "id": "EGNsWARxxd3Q"
      }
    },
    {
      "cell_type": "code",
      "metadata": {
        "id": "rq3A4_6X5ss1"
      },
      "source": [
        "arr2 = np.array(data2)"
      ],
      "execution_count": null,
      "outputs": []
    },
    {
      "cell_type": "code",
      "metadata": {
        "id": "XUtEZrOQ5ss6"
      },
      "source": [
        "arr2"
      ],
      "execution_count": null,
      "outputs": []
    },
    {
      "cell_type": "code",
      "metadata": {
        "id": "YIbBoOm2KBWL"
      },
      "source": [
        "for x in arr2:\n",
        "  print(x)"
      ],
      "execution_count": null,
      "outputs": []
    },
    {
      "cell_type": "code",
      "source": [
        "arr2[0]"
      ],
      "metadata": {
        "id": "qcJZkaEbyP4p"
      },
      "execution_count": null,
      "outputs": []
    },
    {
      "cell_type": "markdown",
      "source": [
        "- Con due dimensioni?"
      ],
      "metadata": {
        "id": "ed_1JDm1zBzu"
      }
    },
    {
      "cell_type": "code",
      "metadata": {
        "id": "jUTZJYZB5stH"
      },
      "source": [
        "data_2 = [[1, 2, 3], [4, 5, 6], [7, 8, 9]]"
      ],
      "execution_count": null,
      "outputs": []
    },
    {
      "cell_type": "code",
      "source": [
        "type(data_2)"
      ],
      "metadata": {
        "id": "gYxsBIu1x5cW"
      },
      "execution_count": null,
      "outputs": []
    },
    {
      "cell_type": "code",
      "metadata": {
        "id": "Z-NOJQCU2SUa"
      },
      "source": [
        "data_2[1][0]"
      ],
      "execution_count": null,
      "outputs": []
    },
    {
      "cell_type": "code",
      "metadata": {
        "id": "G2wTCU7YLX18"
      },
      "source": [
        "data_2"
      ],
      "execution_count": null,
      "outputs": []
    },
    {
      "cell_type": "code",
      "metadata": {
        "id": "0-eBFU1P5stJ"
      },
      "source": [
        "arr_2 = np.array(data_2)"
      ],
      "execution_count": null,
      "outputs": []
    },
    {
      "cell_type": "code",
      "metadata": {
        "id": "K11fF0jq5stL"
      },
      "source": [
        "arr_2"
      ],
      "execution_count": null,
      "outputs": []
    },
    {
      "cell_type": "code",
      "metadata": {
        "id": "rA__3sGY5stN"
      },
      "source": [
        "arr_2.ndim"
      ],
      "execution_count": null,
      "outputs": []
    },
    {
      "cell_type": "code",
      "metadata": {
        "id": "PIqPals15stP"
      },
      "source": [
        "arr_2.shape"
      ],
      "execution_count": null,
      "outputs": []
    },
    {
      "cell_type": "markdown",
      "metadata": {
        "id": "s9m7j1RF5sta"
      },
      "source": [
        "- Other techniques for initializing ndarrays\n",
        "  - ones\n",
        "  - zeros\n",
        "  - empty\n",
        "  - eye"
      ]
    },
    {
      "cell_type": "code",
      "metadata": {
        "id": "5PVvByym5stb"
      },
      "source": [
        "np.ones(16)"
      ],
      "execution_count": null,
      "outputs": []
    },
    {
      "cell_type": "code",
      "metadata": {
        "id": "yDh6c8xGaEx8"
      },
      "source": [
        "np.ones((16, 2))"
      ],
      "execution_count": null,
      "outputs": []
    },
    {
      "cell_type": "code",
      "metadata": {
        "id": "DzMQ4cjk5std"
      },
      "source": [
        "np.empty((3, 4))"
      ],
      "execution_count": null,
      "outputs": []
    },
    {
      "cell_type": "code",
      "metadata": {
        "id": "4kgq-VkXlCuN"
      },
      "source": [
        "np.zeros((4, 4, 4))"
      ],
      "execution_count": null,
      "outputs": []
    },
    {
      "cell_type": "code",
      "metadata": {
        "id": "WS7s4YLY5stj"
      },
      "source": [
        "np.eye(44)"
      ],
      "execution_count": null,
      "outputs": []
    },
    {
      "cell_type": "markdown",
      "metadata": {
        "id": "XSbMAexj5stl"
      },
      "source": [
        "- When constructing an array, you can specify the data type using a string"
      ]
    },
    {
      "cell_type": "code",
      "metadata": {
        "id": "S3dtK3nt5stl"
      },
      "source": [
        "np.ones(10, dtype='float32')  # Default is numpy.float64"
      ],
      "execution_count": null,
      "outputs": []
    },
    {
      "cell_type": "code",
      "source": [
        "# random.randint(low, high=None, size=None, dtype=int)\n",
        "\n",
        "a1 = np.random.randint(10, size=10)  #one-dimensional array\n",
        "a2 = np.random.randint(10, size=(10, 4)) # two-dimensional array\n",
        "a3 = np.random.randint(10, size=(10, 3, 3)) # three-dimensional array"
      ],
      "metadata": {
        "id": "Qg43wTUo2UTz"
      },
      "execution_count": null,
      "outputs": []
    },
    {
      "cell_type": "markdown",
      "metadata": {
        "id": "fGs_RAFk5stn"
      },
      "source": [
        "## Basic array manipulations"
      ]
    },
    {
      "cell_type": "markdown",
      "metadata": {
        "id": "HdnHrUkZ5st1"
      },
      "source": [
        "#### Indexing and slicing arrays\n",
        "- Getting and setting the value of individual array elements\n",
        "- Getting and setting smaller subarrays within a larger array"
      ]
    },
    {
      "cell_type": "code",
      "metadata": {
        "id": "fj_y7Rmx5st2"
      },
      "source": [
        "# numpy.arange([start, ]stop, [step, ]dtype=None, *, like=None)\n",
        "\n",
        "arr = np.arange(0,10,1)"
      ],
      "execution_count": null,
      "outputs": []
    },
    {
      "cell_type": "code",
      "metadata": {
        "id": "Su5lfmHY5st4"
      },
      "source": [
        "arr"
      ],
      "execution_count": null,
      "outputs": []
    },
    {
      "cell_type": "code",
      "metadata": {
        "id": "R369R-_N5st6"
      },
      "source": [
        "arr[5]"
      ],
      "execution_count": null,
      "outputs": []
    },
    {
      "cell_type": "code",
      "metadata": {
        "id": "1cBRvd7W5st8"
      },
      "source": [
        "arr[:]"
      ],
      "execution_count": null,
      "outputs": []
    },
    {
      "cell_type": "code",
      "source": [
        "arr[2:5]"
      ],
      "metadata": {
        "id": "2zRf0vhze3ED"
      },
      "execution_count": null,
      "outputs": []
    },
    {
      "cell_type": "code",
      "metadata": {
        "id": "MEj_1oHc5st-"
      },
      "source": [
        "arr[2:5] = 111 # data is not copied, and any modifications to the view will be reflected in the source array"
      ],
      "execution_count": null,
      "outputs": []
    },
    {
      "cell_type": "code",
      "metadata": {
        "id": "nNycn1hf5suE"
      },
      "source": [
        "arr"
      ],
      "execution_count": null,
      "outputs": []
    },
    {
      "cell_type": "code",
      "source": [],
      "metadata": {
        "id": "Xfd3wRwAfJmw"
      },
      "execution_count": null,
      "outputs": []
    },
    {
      "cell_type": "code",
      "source": [],
      "metadata": {
        "id": "CY-jdGcqfJis"
      },
      "execution_count": null,
      "outputs": []
    },
    {
      "cell_type": "code",
      "metadata": {
        "id": "NDwRU9WX5suP"
      },
      "source": [
        "array2D = np.array([[1, 2, 3], [4, 5, 6], [7, 8, 9]])"
      ],
      "execution_count": null,
      "outputs": []
    },
    {
      "cell_type": "code",
      "metadata": {
        "id": "x7eVplHQ8Ol9"
      },
      "source": [
        "array2D"
      ],
      "execution_count": null,
      "outputs": []
    },
    {
      "cell_type": "code",
      "metadata": {
        "id": "uetlbSaQ5suS"
      },
      "source": [
        "array2D[2]"
      ],
      "execution_count": null,
      "outputs": []
    },
    {
      "cell_type": "code",
      "metadata": {
        "id": "Nx5UQdaj5suU"
      },
      "source": [
        "array2D[1,1]"
      ],
      "execution_count": null,
      "outputs": []
    },
    {
      "cell_type": "code",
      "metadata": {
        "id": "63xckCFM5suW"
      },
      "source": [
        "array2D[1,0]"
      ],
      "execution_count": null,
      "outputs": []
    },
    {
      "cell_type": "code",
      "metadata": {
        "id": "h9gmglc_5suY"
      },
      "source": [
        "array2D[1][0] = 44"
      ],
      "execution_count": null,
      "outputs": []
    },
    {
      "cell_type": "code",
      "metadata": {
        "id": "MCGWfhEC5sua"
      },
      "source": [
        "array2D"
      ],
      "execution_count": null,
      "outputs": []
    },
    {
      "cell_type": "code",
      "metadata": {
        "id": "Js1unP9u5suc"
      },
      "source": [
        "array2D[:, 0:1]"
      ],
      "execution_count": null,
      "outputs": []
    },
    {
      "cell_type": "code",
      "metadata": {
        "id": "Vy3xPA2g5sue"
      },
      "source": [
        "array2D[2:,1:]"
      ],
      "execution_count": null,
      "outputs": []
    },
    {
      "cell_type": "code",
      "metadata": {
        "id": "Ixe_1Ltu5suh"
      },
      "source": [
        "array2D[:,1:]"
      ],
      "execution_count": null,
      "outputs": []
    },
    {
      "cell_type": "markdown",
      "metadata": {
        "id": "58P_T-TZ5sum"
      },
      "source": [
        "#### Boolean indexing"
      ]
    },
    {
      "cell_type": "code",
      "metadata": {
        "id": "i06gPu5G5suo"
      },
      "source": [
        "data = np.random.randn(7,5)"
      ],
      "execution_count": null,
      "outputs": []
    },
    {
      "cell_type": "code",
      "metadata": {
        "id": "WNVJ6zoH5sur"
      },
      "source": [
        "data"
      ],
      "execution_count": null,
      "outputs": []
    },
    {
      "cell_type": "code",
      "source": [
        "data < 0"
      ],
      "metadata": {
        "id": "FISS9Owcq-PO"
      },
      "execution_count": null,
      "outputs": []
    },
    {
      "cell_type": "code",
      "metadata": {
        "id": "ISdef--zSDRZ"
      },
      "source": [
        "data[data<0]=0"
      ],
      "execution_count": null,
      "outputs": []
    },
    {
      "cell_type": "code",
      "metadata": {
        "id": "ci4bXLRtSDDl"
      },
      "source": [
        "data"
      ],
      "execution_count": null,
      "outputs": []
    },
    {
      "cell_type": "code",
      "metadata": {
        "id": "GvfF0uW6-WxP"
      },
      "source": [
        "array2D"
      ],
      "execution_count": null,
      "outputs": []
    },
    {
      "cell_type": "code",
      "metadata": {
        "id": "ZdE1I4O5-Wph"
      },
      "source": [
        "array2D == 5"
      ],
      "execution_count": null,
      "outputs": []
    },
    {
      "cell_type": "code",
      "metadata": {
        "id": "GA6QvDHZ-Wfy"
      },
      "source": [
        "array2D[array2D == 5]=0"
      ],
      "execution_count": null,
      "outputs": []
    },
    {
      "cell_type": "code",
      "metadata": {
        "id": "cDBHc3Gi-WUn"
      },
      "source": [
        "array2D"
      ],
      "execution_count": null,
      "outputs": []
    },
    {
      "cell_type": "code",
      "source": [
        "(array2D == 3) | (array2D == 8)"
      ],
      "metadata": {
        "id": "-yZHjXRHgSp4"
      },
      "execution_count": null,
      "outputs": []
    },
    {
      "cell_type": "markdown",
      "metadata": {
        "id": "mz79pm9z5su8"
      },
      "source": [
        "#### Fancy Indexing\n",
        "- Fancy indexing is a term adopted by NumPy to describe indexing using integer arrays.\n",
        "- To select out a subset of the rows in a particular order, you can simply pass a list or ndarray of integers specifying the desired order"
      ]
    },
    {
      "cell_type": "code",
      "metadata": {
        "id": "DI_gNOpe5su8"
      },
      "source": [
        "arr = np.empty((10, 6))"
      ],
      "execution_count": null,
      "outputs": []
    },
    {
      "cell_type": "code",
      "metadata": {
        "id": "amYcEffU5su-"
      },
      "source": [
        "for i in range(10):\n",
        "    arr[i] = i"
      ],
      "execution_count": null,
      "outputs": []
    },
    {
      "cell_type": "code",
      "metadata": {
        "id": "sERhphvs5su_"
      },
      "source": [
        "arr"
      ],
      "execution_count": null,
      "outputs": []
    },
    {
      "cell_type": "code",
      "metadata": {
        "id": "pc6KwbGW5svB"
      },
      "source": [
        "arr[[2,1,4]]"
      ],
      "execution_count": null,
      "outputs": []
    },
    {
      "cell_type": "code",
      "metadata": {
        "id": "APX-7Y6I5svE"
      },
      "source": [
        "arr[np.array([1,5,4,3,6,6,7])]"
      ],
      "execution_count": null,
      "outputs": []
    },
    {
      "cell_type": "markdown",
      "metadata": {
        "id": "5B1fj3EF5svG"
      },
      "source": [
        "#### Reshaping of arrays\n",
        "- Changing the shape of a given array\n"
      ]
    },
    {
      "cell_type": "code",
      "metadata": {
        "id": "BUZYf5SS5svG"
      },
      "source": [
        "arr.shape"
      ],
      "execution_count": null,
      "outputs": []
    },
    {
      "cell_type": "code",
      "metadata": {
        "id": "QTCWlvhp5svI"
      },
      "source": [
        "arr"
      ],
      "execution_count": null,
      "outputs": []
    },
    {
      "cell_type": "code",
      "metadata": {
        "id": "9iXS4_l-TRAY"
      },
      "source": [
        "arr.reshape((5,12))"
      ],
      "execution_count": null,
      "outputs": []
    },
    {
      "cell_type": "code",
      "metadata": {
        "id": "2Nez_mn35svJ"
      },
      "source": [
        "arr.reshape((-1,15))"
      ],
      "execution_count": null,
      "outputs": []
    },
    {
      "cell_type": "code",
      "metadata": {
        "id": "anP5wA7L5svL"
      },
      "source": [
        "arr.reshape((3,2,10))"
      ],
      "execution_count": null,
      "outputs": []
    },
    {
      "cell_type": "markdown",
      "metadata": {
        "id": "O4hMRPpG5svN"
      },
      "source": [
        "#### Change the data type of an array."
      ]
    },
    {
      "cell_type": "code",
      "metadata": {
        "id": "xEEB7T8Z5svN"
      },
      "source": [
        "x = np.array([[2, 4, 6], [6, 8, 10]], np.int32)"
      ],
      "execution_count": null,
      "outputs": []
    },
    {
      "cell_type": "code",
      "metadata": {
        "id": "qPIWjgWZ5svO"
      },
      "source": [
        "y= x.astype(float)"
      ],
      "execution_count": null,
      "outputs": []
    },
    {
      "cell_type": "code",
      "metadata": {
        "id": "axe6O0yI5svQ"
      },
      "source": [
        "y"
      ],
      "execution_count": null,
      "outputs": []
    },
    {
      "cell_type": "markdown",
      "metadata": {
        "id": "BcdwPmji5svR"
      },
      "source": [
        "#### Joining and splitting of arrays\n",
        "- Combining multiple arrays into one, and splitting one array into many\n",
        "  - np.concatenate takes a tuple or list of arrays as its first argument"
      ]
    },
    {
      "cell_type": "code",
      "metadata": {
        "id": "Dz0HMllo5svS"
      },
      "source": [
        "x = np.array([1,2,3,4,5])\n",
        "y = np.array([6,7,8,9,10])"
      ],
      "execution_count": null,
      "outputs": []
    },
    {
      "cell_type": "code",
      "metadata": {
        "id": "KN7PngfW5svT"
      },
      "source": [
        "np.concatenate([x,y])"
      ],
      "execution_count": null,
      "outputs": []
    },
    {
      "cell_type": "code",
      "metadata": {
        "id": "mAWAzrPWUJ-g"
      },
      "source": [
        "np.concatenate([x,y],axis=1)    # The axis along which the arrays will be joined. If axis is None, arrays are flattened before use. Default is 0."
      ],
      "execution_count": null,
      "outputs": []
    },
    {
      "cell_type": "code",
      "metadata": {
        "id": "_DtPpmBqWhLx"
      },
      "source": [
        "xR=x.reshape(1,-1)\n",
        "yR=y.reshape(1,-1)"
      ],
      "execution_count": null,
      "outputs": []
    },
    {
      "cell_type": "code",
      "metadata": {
        "id": "-l00LSPoQg0q"
      },
      "source": [
        "xR"
      ],
      "execution_count": null,
      "outputs": []
    },
    {
      "cell_type": "code",
      "metadata": {
        "id": "xpnArCaTQjqO"
      },
      "source": [
        "xR.ndim"
      ],
      "execution_count": null,
      "outputs": []
    },
    {
      "cell_type": "code",
      "metadata": {
        "id": "w9m4XoTTQmcM"
      },
      "source": [
        "xR.shape"
      ],
      "execution_count": null,
      "outputs": []
    },
    {
      "cell_type": "code",
      "metadata": {
        "id": "JnKtp7PnWg2N"
      },
      "source": [
        "np.concatenate([xR,yR])    # default axis=0"
      ],
      "execution_count": null,
      "outputs": []
    },
    {
      "cell_type": "code",
      "source": [
        "np.concatenate([xR,yR], axis=1)"
      ],
      "metadata": {
        "id": "pTzOn_-UmseG"
      },
      "execution_count": null,
      "outputs": []
    },
    {
      "cell_type": "markdown",
      "metadata": {
        "id": "nh_ucUJq5svf"
      },
      "source": [
        "- For working with arrays of mixed dimensions, it can be clearer to use the np.vstack (vertical stack) and np.hstack (horizontal stack) functions\n"
      ]
    },
    {
      "cell_type": "code",
      "metadata": {
        "id": "8uQCtotb5svg"
      },
      "source": [
        "x = np.array([1,2,3])\n",
        "y = np.array([[4,5,6],[7,8,9]])"
      ],
      "execution_count": null,
      "outputs": []
    },
    {
      "cell_type": "code",
      "metadata": {
        "id": "StyxjQwMRgvH"
      },
      "source": [
        "x"
      ],
      "execution_count": null,
      "outputs": []
    },
    {
      "cell_type": "code",
      "source": [
        "y"
      ],
      "metadata": {
        "id": "IiLSWF1dn-tT"
      },
      "execution_count": null,
      "outputs": []
    },
    {
      "cell_type": "code",
      "metadata": {
        "id": "3Woc5Oc45svh"
      },
      "source": [
        "np.vstack([x,y])"
      ],
      "execution_count": null,
      "outputs": []
    },
    {
      "cell_type": "code",
      "metadata": {
        "id": "NVMD5hHv5svj"
      },
      "source": [
        "np.hstack([y,y])"
      ],
      "execution_count": null,
      "outputs": []
    },
    {
      "cell_type": "markdown",
      "metadata": {
        "id": "o5g6MXbBnjn8"
      },
      "source": [
        "- The opposite of concatenation is splitting, which is implemented by the functions np.split\n"
      ]
    },
    {
      "cell_type": "code",
      "metadata": {
        "id": "c5BptJ0Q5svp"
      },
      "source": [
        "z, k = np.split(y,[1])"
      ],
      "execution_count": null,
      "outputs": []
    },
    {
      "cell_type": "code",
      "metadata": {
        "id": "MWkH_EeQ5svr"
      },
      "source": [
        "z"
      ],
      "execution_count": null,
      "outputs": []
    },
    {
      "cell_type": "code",
      "metadata": {
        "id": "loNYonjZ5svs"
      },
      "source": [
        "k"
      ],
      "execution_count": null,
      "outputs": []
    },
    {
      "cell_type": "markdown",
      "metadata": {
        "id": "ehZjuI1-5svt"
      },
      "source": [
        "## Computation on NumPy Arrays\n",
        "\n"
      ]
    },
    {
      "cell_type": "markdown",
      "metadata": {
        "id": "uB6xrirK5svt"
      },
      "source": [
        "- Any arithmetic operations between **equal-size arrays** applies the operation **element-wise**\n",
        "- Arithmetic operations with scalars are propagating the value to each element"
      ]
    },
    {
      "cell_type": "code",
      "metadata": {
        "id": "nZjoJPZ05svu"
      },
      "source": [
        "arr1 = np.random.randint(10,size= (10,10))\n",
        "arr2 = np.random.randint(10,size= (10,10))"
      ],
      "execution_count": null,
      "outputs": []
    },
    {
      "cell_type": "code",
      "metadata": {
        "id": "NWENkt6q5svv"
      },
      "source": [
        "arr1"
      ],
      "execution_count": null,
      "outputs": []
    },
    {
      "cell_type": "code",
      "metadata": {
        "id": "CpWFvycX5svw"
      },
      "source": [
        "arr1 * 125"
      ],
      "execution_count": null,
      "outputs": []
    },
    {
      "cell_type": "code",
      "metadata": {
        "id": "iN_3WGBE5sv2"
      },
      "source": [
        "arr1 + arr2    # arr1 and arr2 have the same shape"
      ],
      "execution_count": null,
      "outputs": []
    },
    {
      "cell_type": "code",
      "metadata": {
        "id": "lG0GuWsF5sv3"
      },
      "source": [
        "arr1 * arr2 - arr1 / ( arr2 + 1)"
      ],
      "execution_count": null,
      "outputs": []
    },
    {
      "cell_type": "markdown",
      "metadata": {
        "id": "BQt16Gmz5sv4"
      },
      "source": [
        "- Transposing arrays and inner matrix product"
      ]
    },
    {
      "cell_type": "code",
      "metadata": {
        "id": "GMP_1GmM5sv4"
      },
      "source": [
        "arr1"
      ],
      "execution_count": null,
      "outputs": []
    },
    {
      "cell_type": "code",
      "metadata": {
        "id": "VbyEOZqQ5sv5"
      },
      "source": [
        "arr1.T"
      ],
      "execution_count": null,
      "outputs": []
    },
    {
      "cell_type": "code",
      "metadata": {
        "id": "TutW5Qyy5sv7"
      },
      "source": [
        "np.dot(arr1,arr2)"
      ],
      "execution_count": null,
      "outputs": []
    },
    {
      "cell_type": "markdown",
      "metadata": {
        "id": "DitlygOO5swM"
      },
      "source": [
        "### Mathematical and Statistical Methods\n",
        "\n",
        "- A set of mathematical functions which compute statistics about an entire array or about the data along an axis are accessible as array methods.\n"
      ]
    },
    {
      "cell_type": "markdown",
      "metadata": {
        "id": "_xPMelpI5sv8"
      },
      "source": [
        "\n",
        "Algebric operations\n",
        "\n",
        "```\n",
        "+\tnp.add\tAddition (e.g., 1 + 1 = 2)\n",
        "-\tnp.subtract\tSubtraction (e.g., 3 - 2 = 1)\n",
        "-\tnp.negative\tUnary negation (e.g., -2)\n",
        "*\tnp.multiply\tMultiplication (e.g., 2 * 3 = 6)\n",
        "/\tnp.divide\tDivision (e.g., 3 / 2 = 1.5)\n",
        "//\tnp.floor_divide\tFloor division (e.g., 3 // 2 = 1)\n",
        "**\tnp.power\tExponentiation (e.g., 2 ** 3 = 8)\n",
        "%\tnp.mod\tModulus/remainder (e.g., 9 % 4 = 1)\n",
        "```\n",
        "\n",
        "Trigonometric functions:\n",
        "\n",
        "```\n",
        "sin, cos, tan\tcompute sine, cosine and tangent of angles\n",
        "arcsin, arccos, arctan\tcalculate inverse sine, cosine and tangent\n",
        "hypot\tcalculate hypotenuse of given right triangle\n",
        "sinh, cosh, tanh\tcompute hyperbolic sine, cosine and tangent\n",
        "arcsinh, arccosh, arctanh\tcompute inverse hyperbolic sine, cosine and tangent\n",
        "deg2rad\tconvert degree into radians\n",
        "rad2deg\tconvert radians into degree\n",
        "```\n",
        "\n",
        "Statistical functions:\n",
        "\n",
        "```\n",
        "amin, amax\treturns minimum or maximum of an array or along an axis\n",
        "ptp\treturns range of values (maximum-minimum) of an array or along an axis\n",
        "percentile(a, p, axis)\tcalculate pth percentile of array or along specified axis\n",
        "median\tcompute median of data along specified axis\n",
        "mean\tcompute mean of data along specified axis\n",
        "std\tcompute standard deviation of data along specified axis\n",
        "var\tcompute variance of data along specified axis\n",
        "average\tcompute average of data along specified axis\n",
        "```"
      ]
    },
    {
      "cell_type": "code",
      "metadata": {
        "id": "KbKxl9tKVpt1"
      },
      "source": [
        "arr1"
      ],
      "execution_count": null,
      "outputs": []
    },
    {
      "cell_type": "code",
      "metadata": {
        "id": "K45G242FCfI1"
      },
      "source": [
        "np.median(arr1)"
      ],
      "execution_count": null,
      "outputs": []
    },
    {
      "cell_type": "code",
      "metadata": {
        "id": "yTulXGgo5sv8"
      },
      "source": [
        "np.add(arr1,arr2)    # subtract, multiply, divide"
      ],
      "execution_count": null,
      "outputs": []
    },
    {
      "cell_type": "code",
      "metadata": {
        "id": "b4K6DQ9ACo5W"
      },
      "source": [
        "arr1+arr2"
      ],
      "execution_count": null,
      "outputs": []
    },
    {
      "cell_type": "markdown",
      "metadata": {
        "id": "MMuJPBF15swE"
      },
      "source": [
        "- **np.where** returns elements depending on condition"
      ]
    },
    {
      "cell_type": "code",
      "metadata": {
        "id": "8u7LMIsK5swE"
      },
      "source": [
        "a = np.arange(1,11)"
      ],
      "execution_count": null,
      "outputs": []
    },
    {
      "cell_type": "code",
      "metadata": {
        "id": "eaAGHo755swF"
      },
      "source": [
        "a"
      ],
      "execution_count": null,
      "outputs": []
    },
    {
      "cell_type": "code",
      "metadata": {
        "id": "n73DBmDx5swG"
      },
      "source": [
        "np.where(a>5,0,10)"
      ],
      "execution_count": null,
      "outputs": []
    },
    {
      "cell_type": "code",
      "metadata": {
        "id": "dxYA_32J5swJ"
      },
      "source": [
        "b = np.arange(10,20)"
      ],
      "execution_count": null,
      "outputs": []
    },
    {
      "cell_type": "code",
      "metadata": {
        "id": "4dq17DSI5swK"
      },
      "source": [
        "b"
      ],
      "execution_count": null,
      "outputs": []
    },
    {
      "cell_type": "code",
      "metadata": {
        "id": "SASe9Li_5swL"
      },
      "source": [
        "np.where(a%2==1,a,b)"
      ],
      "execution_count": null,
      "outputs": []
    },
    {
      "cell_type": "markdown",
      "metadata": {
        "id": "UCzNEXTS5swU"
      },
      "source": [
        "## Boolean Arrays\n",
        "\n",
        "- Boolean values are coerced to 1 (True) and 0 (False) in the above methods.\n",
        "- Sum is often used as a means of counting True values in a boolean array.\n"
      ]
    },
    {
      "cell_type": "code",
      "metadata": {
        "id": "mIw_sXAG5swZ"
      },
      "source": [
        "bools = np.array([True,True,False,False,True])"
      ],
      "execution_count": null,
      "outputs": []
    },
    {
      "cell_type": "code",
      "metadata": {
        "id": "q7U_Ads25swa"
      },
      "source": [
        "bools.sum()"
      ],
      "execution_count": null,
      "outputs": []
    },
    {
      "cell_type": "code",
      "metadata": {
        "id": "NGBVHUCc5swb"
      },
      "source": [
        "bools.any()"
      ],
      "execution_count": null,
      "outputs": []
    },
    {
      "cell_type": "code",
      "metadata": {
        "id": "X5imyaHW5swc"
      },
      "source": [
        "bools.all()"
      ],
      "execution_count": null,
      "outputs": []
    },
    {
      "cell_type": "code",
      "metadata": {
        "id": "AZbeRkfk5swe"
      },
      "source": [
        "bools[:2].all()"
      ],
      "execution_count": null,
      "outputs": []
    },
    {
      "cell_type": "markdown",
      "metadata": {
        "id": "8PpBf9z35swg"
      },
      "source": [
        "## Sorting\n",
        "- Like Python’s built-in list type, NumPy arrays can be sorted in-place using the sort method"
      ]
    },
    {
      "cell_type": "code",
      "metadata": {
        "id": "1OEKB0QF5swk"
      },
      "source": [
        "arrsort = np.random.randn(4,3)"
      ],
      "execution_count": null,
      "outputs": []
    },
    {
      "cell_type": "code",
      "metadata": {
        "id": "0jnOF5Dm5swl"
      },
      "source": [
        "arrsort"
      ],
      "execution_count": null,
      "outputs": []
    },
    {
      "cell_type": "code",
      "metadata": {
        "id": "PzTNRv0l5swm"
      },
      "source": [
        "arrsort.sort(0)    # righe"
      ],
      "execution_count": null,
      "outputs": []
    },
    {
      "cell_type": "code",
      "metadata": {
        "id": "26GggF0Y5swn"
      },
      "source": [
        "arrsort"
      ],
      "execution_count": null,
      "outputs": []
    },
    {
      "cell_type": "code",
      "metadata": {
        "id": "UnSgk3Ox5swo"
      },
      "source": [
        "arrsort.sort(1)    # colonne"
      ],
      "execution_count": null,
      "outputs": []
    },
    {
      "cell_type": "code",
      "metadata": {
        "id": "B9NjXY9F5sws"
      },
      "source": [
        "arrsort"
      ],
      "execution_count": null,
      "outputs": []
    },
    {
      "cell_type": "markdown",
      "metadata": {
        "id": "3XxfwYkT5swu"
      },
      "source": [
        "## Unique and Other Set Logic\n",
        "\n",
        "- NumPy has some basic set operations for one-dimensional ndarrays."
      ]
    },
    {
      "cell_type": "code",
      "metadata": {
        "id": "yY6lGgGz5swu"
      },
      "source": [
        "names = np.array(['Bob', 'Joe', 'Will', 'Bob', 'Will', 'Joe', 'Joe'])"
      ],
      "execution_count": null,
      "outputs": []
    },
    {
      "cell_type": "code",
      "metadata": {
        "id": "SwB_nSG65swv"
      },
      "source": [
        "np.unique(names)"
      ],
      "execution_count": null,
      "outputs": []
    },
    {
      "cell_type": "code",
      "metadata": {
        "id": "wZ0jF9iU5swx"
      },
      "source": [],
      "execution_count": null,
      "outputs": []
    }
  ]
}